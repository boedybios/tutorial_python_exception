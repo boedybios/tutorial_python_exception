{
 "cells": [
  {
   "cell_type": "markdown",
   "id": "7d8bc482-cf20-444f-b7cd-0bc724d3287b",
   "metadata": {},
   "source": [
    "# [Tutorial] Introduction to Python Exception"
   ]
  },
  {
   "cell_type": "markdown",
   "id": "44937078-9606-4206-b1a9-e28196d05d94",
   "metadata": {},
   "source": [
    "## Reference"
   ]
  },
  {
   "cell_type": "markdown",
   "id": "2840d1ef-370a-48fb-822d-15b4754b1802",
   "metadata": {},
   "source": [
    "RealPython : [Python Exceptions (An Introduction)](https://realpython.com/python-exceptions/)"
   ]
  },
  {
   "cell_type": "markdown",
   "id": "929c2938-9aa8-44ca-b6db-2e653b7d8c00",
   "metadata": {},
   "source": [
    "## Syntax Error and Exception"
   ]
  },
  {
   "cell_type": "markdown",
   "id": "fc8ce4e4-26c8-44f7-af3b-4b3fcd6677ff",
   "metadata": {},
   "source": [
    "##### Syntax errors occur when the parser detects an incorrect statement"
   ]
  },
  {
   "cell_type": "code",
   "execution_count": 1,
   "id": "2c86cf82-4e9d-46b2-b674-1548bb92d1f8",
   "metadata": {},
   "outputs": [
    {
     "ename": "SyntaxError",
     "evalue": "unmatched ')' (1305762554.py, line 1)",
     "output_type": "error",
     "traceback": [
      "\u001b[0;36m  Cell \u001b[0;32mIn[1], line 1\u001b[0;36m\u001b[0m\n\u001b[0;31m    print(0/0))\u001b[0m\n\u001b[0m              ^\u001b[0m\n\u001b[0;31mSyntaxError\u001b[0m\u001b[0;31m:\u001b[0m unmatched ')'\n"
     ]
    }
   ],
   "source": [
    "print(0/0))"
   ]
  },
  {
   "cell_type": "markdown",
   "id": "64405340-1277-48c4-a852-9b8250ca8ebe",
   "metadata": {},
   "source": [
    "##### Exception error is a type of error occurs whenever syntactically correct, Python code results in an error."
   ]
  },
  {
   "cell_type": "code",
   "execution_count": 2,
   "id": "c360bf09-d58b-4698-a27d-37b873fdf1b1",
   "metadata": {},
   "outputs": [
    {
     "ename": "ZeroDivisionError",
     "evalue": "division by zero",
     "output_type": "error",
     "traceback": [
      "\u001b[0;31m---------------------------------------------------------------------------\u001b[0m",
      "\u001b[0;31mZeroDivisionError\u001b[0m                         Traceback (most recent call last)",
      "Cell \u001b[0;32mIn[2], line 1\u001b[0m\n\u001b[0;32m----> 1\u001b[0m \u001b[38;5;28mprint\u001b[39m(\u001b[38;5;241;43m0\u001b[39;49m\u001b[38;5;241;43m/\u001b[39;49m\u001b[38;5;241;43m0\u001b[39;49m)\n",
      "\u001b[0;31mZeroDivisionError\u001b[0m: division by zero"
     ]
    }
   ],
   "source": [
    "print(0/0)"
   ]
  },
  {
   "cell_type": "markdown",
   "id": "b36b88a6-47b6-4440-8e7c-4ade8e7dad71",
   "metadata": {},
   "source": [
    "Instead of just writing exception error, Python details what type of exception error it encountered. In this case, it was a ZeroDivisionError. Python comes with [various built-in exceptions](https://docs.python.org/3/library/exceptions.html) as well as the possibility to create user-defined exceptions."
   ]
  },
  {
   "cell_type": "markdown",
   "id": "12ff041d-9557-49b6-8a47-2127362475ba",
   "metadata": {},
   "source": [
    "## Raising an Exception in Python"
   ]
  },
  {
   "cell_type": "code",
   "execution_count": 3,
   "id": "20d60e56-c045-47c8-9457-4af1f5c5de7d",
   "metadata": {},
   "outputs": [
    {
     "ename": "Exception",
     "evalue": "The number should not exceed 5. (number=10)",
     "output_type": "error",
     "traceback": [
      "\u001b[0;31m---------------------------------------------------------------------------\u001b[0m",
      "\u001b[0;31mException\u001b[0m                                 Traceback (most recent call last)",
      "Cell \u001b[0;32mIn[3], line 3\u001b[0m\n\u001b[1;32m      1\u001b[0m number \u001b[38;5;241m=\u001b[39m \u001b[38;5;241m10\u001b[39m\n\u001b[1;32m      2\u001b[0m \u001b[38;5;28;01mif\u001b[39;00m number \u001b[38;5;241m>\u001b[39m \u001b[38;5;241m5\u001b[39m:\n\u001b[0;32m----> 3\u001b[0m     \u001b[38;5;28;01mraise\u001b[39;00m \u001b[38;5;167;01mException\u001b[39;00m(\u001b[38;5;124mf\u001b[39m\u001b[38;5;124m\"\u001b[39m\u001b[38;5;124mThe number should not exceed 5. (\u001b[39m\u001b[38;5;132;01m{\u001b[39;00mnumber\u001b[38;5;132;01m=}\u001b[39;00m\u001b[38;5;124m)\u001b[39m\u001b[38;5;124m\"\u001b[39m)\n\u001b[1;32m      4\u001b[0m \u001b[38;5;28mprint\u001b[39m(number)\n",
      "\u001b[0;31mException\u001b[0m: The number should not exceed 5. (number=10)"
     ]
    }
   ],
   "source": [
    "number = 10\n",
    "if number > 5:\n",
    "    raise Exception(f\"The number should not exceed 5. ({number=})\")\n",
    "print(number)"
   ]
  },
  {
   "cell_type": "markdown",
   "id": "50d56baf-ac61-4df2-b728-23c10971687b",
   "metadata": {},
   "source": [
    "## Debugging During Development With `assert`"
   ]
  },
  {
   "cell_type": "code",
   "execution_count": 4,
   "id": "c9c1692f-3885-46f5-b6cf-2f5f226dce6a",
   "metadata": {},
   "outputs": [
    {
     "ename": "AssertionError",
     "evalue": "The number should not exceed 5. (number=6)",
     "output_type": "error",
     "traceback": [
      "\u001b[0;31m---------------------------------------------------------------------------\u001b[0m",
      "\u001b[0;31mAssertionError\u001b[0m                            Traceback (most recent call last)",
      "Cell \u001b[0;32mIn[4], line 2\u001b[0m\n\u001b[1;32m      1\u001b[0m number \u001b[38;5;241m=\u001b[39m \u001b[38;5;241m6\u001b[39m\n\u001b[0;32m----> 2\u001b[0m \u001b[38;5;28;01massert\u001b[39;00m (number \u001b[38;5;241m<\u001b[39m \u001b[38;5;241m5\u001b[39m), \u001b[38;5;124mf\u001b[39m\u001b[38;5;124m\"\u001b[39m\u001b[38;5;124mThe number should not exceed 5. (\u001b[39m\u001b[38;5;132;01m{\u001b[39;00mnumber\u001b[38;5;132;01m=}\u001b[39;00m\u001b[38;5;124m)\u001b[39m\u001b[38;5;124m\"\u001b[39m\n\u001b[1;32m      3\u001b[0m \u001b[38;5;28mprint\u001b[39m(number)\n",
      "\u001b[0;31mAssertionError\u001b[0m: The number should not exceed 5. (number=6)"
     ]
    }
   ],
   "source": [
    "number = 6\n",
    "assert (number < 5), f\"The number should not exceed 5. ({number=})\"\n",
    "print(number)"
   ]
  },
  {
   "cell_type": "code",
   "execution_count": 5,
   "id": "3ad63884-61c6-4555-b71c-bf4b67b89804",
   "metadata": {},
   "outputs": [],
   "source": [
    "# !python -O low.py"
   ]
  },
  {
   "cell_type": "markdown",
   "id": "17c24908-3ed8-44a5-831f-48d9990d91ac",
   "metadata": {},
   "source": [
    "## Handling Exceptions With the `try` and `except` Block"
   ]
  },
  {
   "cell_type": "code",
   "execution_count": 6,
   "id": "32cbbbe2-7af9-415c-8202-b2acfc29defd",
   "metadata": {},
   "outputs": [],
   "source": [
    "def linux_interaction():\n",
    "    import sys\n",
    "    if \"linux\" not in sys.platform:\n",
    "        raise RuntimeError(\"Function can only run on Linux systems.\")\n",
    "    print(\"Doing Linux things.\")"
   ]
  },
  {
   "cell_type": "code",
   "execution_count": 7,
   "id": "2bd6f087-1cbf-4248-907f-8f32e9e6877e",
   "metadata": {},
   "outputs": [
    {
     "data": {
      "text/plain": [
       "'darwin'"
      ]
     },
     "execution_count": 7,
     "metadata": {},
     "output_type": "execute_result"
    }
   ],
   "source": [
    "import sys\n",
    "sys.platform"
   ]
  },
  {
   "cell_type": "code",
   "execution_count": 8,
   "id": "975f5f54-f70e-476f-9cac-7100f785fd54",
   "metadata": {},
   "outputs": [
    {
     "ename": "RuntimeError",
     "evalue": "Function can only run on Linux systems.",
     "output_type": "error",
     "traceback": [
      "\u001b[0;31m---------------------------------------------------------------------------\u001b[0m",
      "\u001b[0;31mRuntimeError\u001b[0m                              Traceback (most recent call last)",
      "Cell \u001b[0;32mIn[8], line 1\u001b[0m\n\u001b[0;32m----> 1\u001b[0m \u001b[43mlinux_interaction\u001b[49m\u001b[43m(\u001b[49m\u001b[43m)\u001b[49m\n",
      "Cell \u001b[0;32mIn[6], line 4\u001b[0m, in \u001b[0;36mlinux_interaction\u001b[0;34m()\u001b[0m\n\u001b[1;32m      2\u001b[0m \u001b[38;5;28;01mimport\u001b[39;00m \u001b[38;5;21;01msys\u001b[39;00m\n\u001b[1;32m      3\u001b[0m \u001b[38;5;28;01mif\u001b[39;00m \u001b[38;5;124m\"\u001b[39m\u001b[38;5;124mlinux\u001b[39m\u001b[38;5;124m\"\u001b[39m \u001b[38;5;129;01mnot\u001b[39;00m \u001b[38;5;129;01min\u001b[39;00m sys\u001b[38;5;241m.\u001b[39mplatform:\n\u001b[0;32m----> 4\u001b[0m     \u001b[38;5;28;01mraise\u001b[39;00m \u001b[38;5;167;01mRuntimeError\u001b[39;00m(\u001b[38;5;124m\"\u001b[39m\u001b[38;5;124mFunction can only run on Linux systems.\u001b[39m\u001b[38;5;124m\"\u001b[39m)\n\u001b[1;32m      5\u001b[0m \u001b[38;5;28mprint\u001b[39m(\u001b[38;5;124m\"\u001b[39m\u001b[38;5;124mDoing Linux things.\u001b[39m\u001b[38;5;124m\"\u001b[39m)\n",
      "\u001b[0;31mRuntimeError\u001b[0m: Function can only run on Linux systems."
     ]
    }
   ],
   "source": [
    "linux_interaction()"
   ]
  },
  {
   "cell_type": "markdown",
   "id": "f729014a-961d-4dcf-a018-628820ba08f7",
   "metadata": {},
   "source": [
    "##### Bad practice"
   ]
  },
  {
   "cell_type": "code",
   "execution_count": 9,
   "id": "8a91f2a1-ea50-4f90-ba5a-2a23cee4a028",
   "metadata": {},
   "outputs": [],
   "source": [
    "try:\n",
    "    linux_interaction()\n",
    "except:\n",
    "    pass"
   ]
  },
  {
   "cell_type": "markdown",
   "id": "8c12fe28-dffb-4b2c-89d9-33181b4015fa",
   "metadata": {},
   "source": [
    "##### Not quite a good practice"
   ]
  },
  {
   "cell_type": "code",
   "execution_count": 10,
   "id": "e163937a-9329-456d-8f93-316cb66dbc2c",
   "metadata": {},
   "outputs": [
    {
     "name": "stdout",
     "output_type": "stream",
     "text": [
      "Linux function wasn't executed.\n"
     ]
    }
   ],
   "source": [
    "try:\n",
    "    linux_interaction()\n",
    "except:\n",
    "    print(\"Linux function wasn't executed.\")"
   ]
  },
  {
   "cell_type": "markdown",
   "id": "5e80b257-4bf0-4be4-b56a-4807a82604b3",
   "metadata": {},
   "source": [
    "##### Good practice"
   ]
  },
  {
   "cell_type": "code",
   "execution_count": 11,
   "id": "d5d087f0-ca4b-45cf-b789-89fc331cb7b4",
   "metadata": {},
   "outputs": [
    {
     "name": "stdout",
     "output_type": "stream",
     "text": [
      "Function can only run on Linux systems.\n",
      "The linux_interaction() function wasn't executed.\n"
     ]
    }
   ],
   "source": [
    "try:\n",
    "    linux_interaction()\n",
    "except RuntimeError as error:\n",
    "    print(error)\n",
    "    print(\"The linux_interaction() function wasn't executed.\")"
   ]
  },
  {
   "cell_type": "markdown",
   "id": "de44cfdf-4e22-47ea-941e-879254f8e9b0",
   "metadata": {},
   "source": [
    "##### Examples"
   ]
  },
  {
   "cell_type": "markdown",
   "id": "b300e45c-226a-40c9-9223-4adff8056cd5",
   "metadata": {},
   "source": [
    "Case #1"
   ]
  },
  {
   "cell_type": "code",
   "execution_count": 12,
   "id": "9e89e229-4575-41b4-a97e-11be58c3be12",
   "metadata": {},
   "outputs": [
    {
     "name": "stdout",
     "output_type": "stream",
     "text": [
      "[Errno 2] No such file or directory: 'file.log'\n"
     ]
    }
   ],
   "source": [
    "try:\n",
    "    with open(\"file.log\") as file:\n",
    "        read_data = file.read()\n",
    "except FileNotFoundError as fnf_error:\n",
    "    print(fnf_error)"
   ]
  },
  {
   "cell_type": "markdown",
   "id": "ef705a28-19f1-4d28-9642-5e7f2723b2a5",
   "metadata": {},
   "source": [
    "Case #2"
   ]
  },
  {
   "cell_type": "code",
   "execution_count": 13,
   "id": "e0f006c8-a5c2-43ae-9678-28040321e408",
   "metadata": {},
   "outputs": [
    {
     "name": "stdout",
     "output_type": "stream",
     "text": [
      "Function can only run on Linux systems.\n",
      "Linux linux_interaction() function wasn't executed.\n"
     ]
    }
   ],
   "source": [
    "try:\n",
    "    linux_interaction()\n",
    "    with open(\"file.log\") as file:\n",
    "        read_data = file.read()\n",
    "except FileNotFoundError as fnf_error:\n",
    "    print(fnf_error)\n",
    "except RuntimeError as error:\n",
    "    print(error)\n",
    "    print(\"Linux linux_interaction() function wasn't executed.\")"
   ]
  },
  {
   "cell_type": "markdown",
   "id": "b32c89d9-dc00-457c-9998-5843d37c1115",
   "metadata": {},
   "source": [
    "##### Few key takeaways"
   ]
  },
  {
   "cell_type": "markdown",
   "id": "db935bf4-a656-442a-ad65-384cb62ea3d3",
   "metadata": {},
   "source": [
    "Here are the key takeaways about using Python’s try … except statements:\n",
    "\n",
    "- Python executes a `try` clause up until the point where it encounters the first exception.\n",
    "- Inside the `except` clause—the exception handler—you determine how the program responds to the exception.\n",
    "- You can anticipate multiple exceptions and differentiate how the program should respond to them.\n",
    "- Avoid using bare `except` clauses, because they can hide unexpected exceptions."
   ]
  },
  {
   "cell_type": "markdown",
   "id": "fc77c2bc-f23a-4d65-941d-2f723509f1ca",
   "metadata": {},
   "source": [
    "## Proceeding After a Successful `try` With `else`"
   ]
  },
  {
   "cell_type": "code",
   "execution_count": 14,
   "id": "d2b55c0e-a9c2-4711-aeed-3e822c251fa7",
   "metadata": {},
   "outputs": [],
   "source": [
    "def linux_interaction():\n",
    "    import sys\n",
    "    if \"linux\" not in sys.platform:\n",
    "        raise RuntimeError(\"Function can only run on Linux systems.\")\n",
    "    print(\"Doing Linux things.\")"
   ]
  },
  {
   "cell_type": "markdown",
   "id": "ec5aeac9-2321-4b83-a54a-0a8de66667ec",
   "metadata": {},
   "source": [
    "You can use Python’s `else` statement to instruct a program to execute a certain block of code only in the absence of exceptions"
   ]
  },
  {
   "cell_type": "code",
   "execution_count": 15,
   "id": "7203b78d-8962-437c-96b3-d77b1cebc321",
   "metadata": {},
   "outputs": [
    {
     "name": "stdout",
     "output_type": "stream",
     "text": [
      "Function can only run on Linux systems.\n"
     ]
    }
   ],
   "source": [
    "try:\n",
    "    linux_interaction()\n",
    "except RuntimeError as error:\n",
    "    print(error)\n",
    "else:\n",
    "    print(\"Doing even more Linux things.\")"
   ]
  },
  {
   "cell_type": "code",
   "execution_count": 16,
   "id": "e0cdfeb7-472e-4576-87be-7cf09f23eafe",
   "metadata": {},
   "outputs": [
    {
     "name": "stdout",
     "output_type": "stream",
     "text": [
      "Function can only run on Linux systems.\n",
      "Doing even more Linux things.\n"
     ]
    }
   ],
   "source": [
    "try:\n",
    "    linux_interaction()\n",
    "except RuntimeError as error:\n",
    "    print(error)\n",
    "print(\"Doing even more Linux things.\")"
   ]
  },
  {
   "cell_type": "markdown",
   "id": "cb436858-6247-4391-9ec1-e10a52c1d63f",
   "metadata": {},
   "source": [
    "If you don’t nest the `print()` call under the `else` clause, then it’ll execute even if Python encounters the `RuntimeError` that you handle in the `except` block above."
   ]
  },
  {
   "cell_type": "code",
   "execution_count": 17,
   "id": "50f31fbc-c440-42c3-8f2b-35157da21796",
   "metadata": {},
   "outputs": [
    {
     "name": "stdout",
     "output_type": "stream",
     "text": [
      "Function can only run on Linux systems.\n"
     ]
    }
   ],
   "source": [
    "try:\n",
    "    linux_interaction()\n",
    "except RuntimeError as error:\n",
    "    print(error)\n",
    "else:\n",
    "    try:\n",
    "        with open(\"file.log\") as file:\n",
    "            read_data = file.read()\n",
    "    except FileNotFoundError as fnf_error:\n",
    "        print(fnf_error)"
   ]
  },
  {
   "cell_type": "markdown",
   "id": "8b79e767-0488-4a3f-b9fc-3bd5783c2c70",
   "metadata": {},
   "source": [
    "## Cleaning Up After Execution With `finally`"
   ]
  },
  {
   "cell_type": "markdown",
   "id": "dca5e740-8db2-4e74-a5b3-1d3845c5f623",
   "metadata": {},
   "source": [
    "Imagine that you always had to implement some sort of action to clean up after executing your code. Python enables you to do so using the `finally` clause"
   ]
  },
  {
   "cell_type": "code",
   "execution_count": 18,
   "id": "956e47de-a239-4391-94ba-c12274131cec",
   "metadata": {},
   "outputs": [
    {
     "name": "stdout",
     "output_type": "stream",
     "text": [
      "Function can only run on Linux systems.\n",
      "Cleaning up, irrespective of any exceptions.\n"
     ]
    }
   ],
   "source": [
    "try:\n",
    "    linux_interaction()\n",
    "except RuntimeError as error:\n",
    "    print(error)\n",
    "else:\n",
    "    try:\n",
    "        with open(\"file.log\") as file:\n",
    "            read_data = file.read()\n",
    "    except FileNotFoundError as fnf_error:\n",
    "        print(fnf_error)\n",
    "finally:\n",
    "    print(\"Cleaning up, irrespective of any exceptions.\")"
   ]
  },
  {
   "cell_type": "markdown",
   "id": "380d9790-a94f-4920-8ac8-deabdfed8231",
   "metadata": {},
   "source": [
    "This can be helpful because even code outside of a try… except block won’t necessarily execute if your script encounters an unhandled exception. This helps you make sure that resources like file handles and database connections are cleaned up properly."
   ]
  },
  {
   "cell_type": "markdown",
   "id": "88aaedb7-6b73-409c-9103-079ddd4d6810",
   "metadata": {},
   "source": [
    "## Creating Custom Exceptions in Python"
   ]
  },
  {
   "cell_type": "code",
   "execution_count": 19,
   "id": "54839edc-d8de-4c00-b312-9f48935baf02",
   "metadata": {},
   "outputs": [],
   "source": [
    "class PlatformException(Exception):\n",
    "    \"\"\"Incompatible platform.\"\"\"\n",
    "\n",
    "def linux_interaction():\n",
    "    import sys\n",
    "    if \"linux\" not in sys.platform:\n",
    "        raise PlatformException(\"Function can only run on Linux systems.\")\n",
    "    print(\"Doing Linux things.\")"
   ]
  },
  {
   "cell_type": "code",
   "execution_count": 20,
   "id": "f6fed58a-da13-4eb4-b8ea-ec2c9d1f765c",
   "metadata": {},
   "outputs": [
    {
     "ename": "PlatformException",
     "evalue": "Function can only run on Linux systems.",
     "output_type": "error",
     "traceback": [
      "\u001b[0;31m---------------------------------------------------------------------------\u001b[0m",
      "\u001b[0;31mPlatformException\u001b[0m                         Traceback (most recent call last)",
      "Cell \u001b[0;32mIn[20], line 1\u001b[0m\n\u001b[0;32m----> 1\u001b[0m \u001b[43mlinux_interaction\u001b[49m\u001b[43m(\u001b[49m\u001b[43m)\u001b[49m\n",
      "Cell \u001b[0;32mIn[19], line 7\u001b[0m, in \u001b[0;36mlinux_interaction\u001b[0;34m()\u001b[0m\n\u001b[1;32m      5\u001b[0m \u001b[38;5;28;01mimport\u001b[39;00m \u001b[38;5;21;01msys\u001b[39;00m\n\u001b[1;32m      6\u001b[0m \u001b[38;5;28;01mif\u001b[39;00m \u001b[38;5;124m\"\u001b[39m\u001b[38;5;124mlinux\u001b[39m\u001b[38;5;124m\"\u001b[39m \u001b[38;5;129;01mnot\u001b[39;00m \u001b[38;5;129;01min\u001b[39;00m sys\u001b[38;5;241m.\u001b[39mplatform:\n\u001b[0;32m----> 7\u001b[0m     \u001b[38;5;28;01mraise\u001b[39;00m PlatformException(\u001b[38;5;124m\"\u001b[39m\u001b[38;5;124mFunction can only run on Linux systems.\u001b[39m\u001b[38;5;124m\"\u001b[39m)\n\u001b[1;32m      8\u001b[0m \u001b[38;5;28mprint\u001b[39m(\u001b[38;5;124m\"\u001b[39m\u001b[38;5;124mDoing Linux things.\u001b[39m\u001b[38;5;124m\"\u001b[39m)\n",
      "\u001b[0;31mPlatformException\u001b[0m: Function can only run on Linux systems."
     ]
    }
   ],
   "source": [
    "linux_interaction()"
   ]
  },
  {
   "cell_type": "code",
   "execution_count": 21,
   "id": "d30845ed-cb68-437f-a9a6-425344c0441b",
   "metadata": {},
   "outputs": [
    {
     "name": "stdout",
     "output_type": "stream",
     "text": [
      "Platform related issue: Function can only run on Linux systems.\n"
     ]
    }
   ],
   "source": [
    "try:\n",
    "    linux_interaction()\n",
    "except PlatformException as e:\n",
    "    print(f\"Platform related issue: {e}\")"
   ]
  },
  {
   "cell_type": "markdown",
   "id": "29cdcc5d-b9fe-4373-8422-540bbbb39b72",
   "metadata": {},
   "source": [
    "## End of Workshop"
   ]
  },
  {
   "cell_type": "code",
   "execution_count": null,
   "id": "5cca42c4-efe9-4155-a28d-886124384f28",
   "metadata": {},
   "outputs": [],
   "source": []
  }
 ],
 "metadata": {
  "kernelspec": {
   "display_name": "Python 3 (ipykernel)",
   "language": "python",
   "name": "python3"
  },
  "language_info": {
   "codemirror_mode": {
    "name": "ipython",
    "version": 3
   },
   "file_extension": ".py",
   "mimetype": "text/x-python",
   "name": "python",
   "nbconvert_exporter": "python",
   "pygments_lexer": "ipython3",
   "version": "3.10.13"
  }
 },
 "nbformat": 4,
 "nbformat_minor": 5
}
